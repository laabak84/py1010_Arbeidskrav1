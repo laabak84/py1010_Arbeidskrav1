{
  "nbformat": 4,
  "nbformat_minor": 0,
  "metadata": {
    "colab": {
      "provenance": [],
      "authorship_tag": "ABX9TyO8O2MzwWtGQuNvVBjxe/3v"
    },
    "kernelspec": {
      "name": "python3",
      "display_name": "Python 3"
    },
    "language_info": {
      "name": "python"
    }
  },
  "cells": [
    {
      "cell_type": "markdown",
      "source": [
        "**Arbeidskrav 2 PY1010 - frist 17.01.2025 kl. 21:00 - Daniel Dale Laabak**"
      ],
      "metadata": {
        "id": "IyhtHdc313ZM"
      }
    },
    {
      "cell_type": "markdown",
      "source": [
        "Oppg 1) Du skal her lage et program som skal starter med\n",
        "alder = int(input('Hvilket år er du født? ') )\n",
        "Programmet skal så regne ut hvor gammel personen blir nå i løpet av år 2024 og skrive\n",
        "svaret til skjerm med passende tekst."
      ],
      "metadata": {
        "id": "QZVALc1910oL"
      }
    },
    {
      "cell_type": "code",
      "execution_count": 1,
      "metadata": {
        "colab": {
          "base_uri": "https://localhost:8080/"
        },
        "id": "e_1s8ffomOW3",
        "outputId": "c44f65b9-bd67-41e9-a8d6-bd632e7b72a9"
      },
      "outputs": [
        {
          "output_type": "stream",
          "name": "stdout",
          "text": [
            "Hvilket år er du født? 1984\n",
            "Du er (eller blir) 40 år gammel i  2024\n"
          ]
        }
      ],
      "source": [
        "#OPPGAVE 1\n",
        "alder = int(input('Hvilket år er du født? ') )\n",
        "dette_aar = int(2024)\n",
        "alder_naa = dette_aar-alder\n",
        "\n",
        "print(\"Du er (eller blir)\",alder_naa, \"år gammel i \",dette_aar)\n",
        "\n",
        "\n",
        "\n",
        "\n",
        "\n"
      ]
    },
    {
      "cell_type": "markdown",
      "source": [
        "Oppg 2) Det skal arrangeres en klassefest og man antar at hver elev spiser 1/4 pizza. Lag et\n",
        "program som tar inn antall elever fra konsollen ved\n",
        "antall_elever = int(input('Skriv inn antall elever:' ))\n",
        "Programmet skal så regne ut hvor mange pizzaer som skal handles inn til festen og skrive\n",
        "svaret til skjerm. Merk, man kan ikke kjøpe 4 og en kvart pizza på butikken (man må da kjøpe\n",
        "5).\n",
        "Hint1: Gir programmet ditt et fornuftig svar hvis det f.eks er 21 elever i klassen?\n",
        "Hint2: Det er ikke vanlig å si/skrive: ‘Det må handles inn 6.0 pizzaer til festen’. Hvordan kan\n",
        "sikre at antall pizzaer skrives ut som et heltall (ikke desimaltall)?"
      ],
      "metadata": {
        "id": "Vg8PMhiE2vXg"
      }
    },
    {
      "cell_type": "code",
      "source": [
        "\n",
        "#OPPGAVE 2\n",
        "import math #importerer for å få ceil-funksjon\n",
        "\n",
        "antall_elever = int(input('Skriv inn antall elever:' ))\n",
        "\n",
        "antall_delvise_pizza = 0.25 * antall_elever\n",
        "antall_hele_pizza = math.ceil(antall_delvise_pizza)\n",
        "\n",
        "print(\"Du må bestille\",antall_hele_pizza, \"pizza, basert på at hver elev spiser 1/4 pizza :-) Har du husket å ta høyde for matintoleranse når du bestiller? ;-)\")"
      ],
      "metadata": {
        "colab": {
          "base_uri": "https://localhost:8080/"
        },
        "id": "EFgTPQ_ToCL7",
        "outputId": "201e1c71-ff30-4e6a-f551-500c4107afcd"
      },
      "execution_count": 2,
      "outputs": [
        {
          "output_type": "stream",
          "name": "stdout",
          "text": [
            "Skriv inn antall elever:32\n",
            "Du må bestille 8 pizza, basert på at hver elev spiser 1/4 pizza :-) Har du husket å ta høyde for matintoleranse når du bestiller? ;-)\n"
          ]
        }
      ]
    },
    {
      "cell_type": "markdown",
      "source": [
        "Oppg 3)\n",
        "Lag et program med en funksjon som regner om fra grader til radianer.\n",
        "Programmet skal starte med:\n",
        "import numpy as np\n",
        "v_grad = float(input('Skriv inn gradtallet:' ))\n",
        "Radiantallet til vinkelen regnes så ut ved følgende formel: v_rad = v_grad*np.pi/180\n",
        "Resultatet v_rad skrives til skjerm med passende tekst og verdi.\n",
        "Merk: np.pi er en ferdiglaget funksjon som gir verdien 3.1415...."
      ],
      "metadata": {
        "id": "xsTqrIdk21z7"
      }
    },
    {
      "cell_type": "code",
      "source": [
        "#OPPGAVE 3\n",
        "import numpy as np\n",
        "v_grad = float(input('Skriv inn gradtallet:' ))\n",
        "v_rad = v_grad*np.pi/180\n",
        "print(v_grad,\"grader tilsvarer\",v_rad,\"radianer.\")"
      ],
      "metadata": {
        "colab": {
          "base_uri": "https://localhost:8080/"
        },
        "id": "sxvf2oO31nbj",
        "outputId": "487e72f8-cded-43d8-c5f6-6c97a428d951"
      },
      "execution_count": 4,
      "outputs": [
        {
          "output_type": "stream",
          "name": "stdout",
          "text": [
            "Skriv inn gradtallet:90\n",
            "90.0 grader tilsvarer 1.5707963267948966 radianer.\n"
          ]
        }
      ]
    },
    {
      "cell_type": "markdown",
      "source": [
        "Oppg 4)\n",
        "\n",
        "a) Opprett en dictionary som gitt under. Dictionaryen har ulike land som nøkkel (Keys)\n",
        "og gir info om hovedstaden i landet og antall innbyggere i mill. i hovedstaden.\n",
        "\n",
        "b) Lag et program som ber brukeren skrive inn et land (eksempelvis England).\n",
        "Programmet skal på bakgrunn av dette skrive ut følgende setning:\n",
        "London er hovedstaden i England og det er 8.982 mill. innbyggere i London\n",
        "\n",
        "c) Lag et program som ber brukeren skrive inn info om et nytt land (altså et land som\n",
        "ikke allerede finnes i dictionaryen data). Videre skal brukeren oppgi hovedstad og\n",
        "antall innbyggere for det «nye» landet. Programmet skal så utvide/oppdatere\n",
        "dictionaryen med den nye informasjonen. Dictionaryen data skrives så til skjerm.\n"
      ],
      "metadata": {
        "id": "wXsmKB0B26iW"
      }
    },
    {
      "cell_type": "code",
      "source": [
        "#OPPGAVE 4 a og b\n",
        "data = {\n",
        "    \"Norge\": [\"Oslo\", 0.634],\n",
        "    \"England\": [\"London\", 8.982],\n",
        "    \"Frankrike\": [\"Paris\", 2.161],\n",
        "    \"Italia\": [\"Roma\", 2.873]\n",
        "}\n",
        "\n",
        "valgt_land = input(\"Skriv inn et land, eksempelvis England: \")\n",
        "hovedstad = data[valgt_land][0]\n",
        "innbyggere = data[valgt_land][1]\n",
        "\n",
        "print(hovedstad, \"er hovedstaden i\", valgt_land, \"og det er\", innbyggere, \"mill. innbyggere i\", hovedstad)\n",
        "\n"
      ],
      "metadata": {
        "id": "teBJdFYM3HCH"
      },
      "execution_count": null,
      "outputs": []
    },
    {
      "cell_type": "code",
      "source": [
        "#OPPGAVE 4 c\n",
        "data = {\n",
        "    \"Norge\": [\"Oslo\", 0.634],\n",
        "    \"England\": [\"London\", 8.982],\n",
        "    \"Frankrike\": [\"Paris\", 2.161],\n",
        "    \"Italia\": [\"Roma\", 2.873]\n",
        "}\n",
        "\n",
        "nytt_land = input(\"Skriv inn et nytt land: \")\n",
        "hovedstad = input(\"Skriv inn hovedstaden for \" + nytt_land + \": \")\n",
        "innbyggere = float(input(\"Skriv inn antall innbyggere for \" + hovedstad + \": \"))\n",
        "\n",
        "data[nytt_land] = [hovedstad, innbyggere]\n",
        "\n",
        "print(\"Dictionaryen er nå oppdatert med følgende informasjon:\")\n",
        "print(data)\n"
      ],
      "metadata": {
        "colab": {
          "base_uri": "https://localhost:8080/"
        },
        "id": "7xvXPRmD4-y_",
        "outputId": "db8ddffb-d095-4e4c-c4f0-2b99f0a35ef2"
      },
      "execution_count": 3,
      "outputs": [
        {
          "output_type": "stream",
          "name": "stdout",
          "text": [
            "Skriv inn et nytt land: Tanzania\n",
            "Skriv inn hovedstaden for Tanzania: Ougoudougou\n",
            "Skriv inn antall innbyggere for Ougoudougou: 4.833\n",
            "Dictionaryen data er nå oppdatert med følgende informasjon:\n",
            "{'Norge': ['Oslo', 0.634], 'England': ['London', 8.982], 'Frankrike': ['Paris', 2.161], 'Italia': ['Roma', 2.873], 'Tanzania': ['Ougoudougou', 4.833]}\n"
          ]
        }
      ]
    },
    {
      "cell_type": "markdown",
      "source": [
        "Oppg 5) Lag et program med en funksjon som tar a og b som inn-argumenter og som så\n",
        "regner ut arealet og «ytre» omkrets til en figur satt sammen av en rettvinklet trekant og en\n",
        "halvsirkel, se figuren under. Med «ytre» omkrets menes samlet lengde av de sorte strekene.\n",
        "Funksjonen skal returnere arealet og «ytre» omkrets, som så skrives til skjerm med passende\n",
        "tekst."
      ],
      "metadata": {
        "id": "PlFsC9KJ3ItS"
      }
    },
    {
      "cell_type": "code",
      "source": [
        "#OPPGAVE 5\n",
        "import numpy as np\n",
        "\n",
        "a = float(input(\"Skriv inn lengden på kateten i trekanten (som halvsirkelen er satt sammen med)\"))\n",
        "b = float(input(\"Skriv inn lengden på kateten i trekanten (den andre kateten)\"))\n",
        "\n",
        "r = a/2 #Radius på sirkelen\n",
        "\n",
        "areal_halvsirkel = (np.pi * (a/2)**2) / 2 #Finner arealet av sirkelen og deler dette på to (halvsirkel)\n",
        "areal_trekant = 0.5 * a * b #Finner arealet på trekanten\n",
        "areal_total = areal_halvsirkel + areal_trekant #Legger sammen arealet\n",
        "\n",
        "buelengde = np.pi * r #Finner buelengden på halvsirkelen\n",
        "hypotenus_trekant = np.sqrt(a**2 + b**2) #Finner hypotenusen\n",
        "omkrets_trekant = a+b+hypotenus_trekant #Finner omkrets av trekanten\n",
        "omkrets_total = buelengde + b + hypotenus_trekant #Finner omkrets av hele figuren\n",
        "\n",
        "print(f\"Arealet til figuren - rettvinklet trekant med halvsirkel er {areal_total:.2f} og omkretsen av figuren er {omkrets_total:.2f}\")\n",
        "\n",
        "\n"
      ],
      "metadata": {
        "colab": {
          "base_uri": "https://localhost:8080/"
        },
        "id": "JIjTuOlp3ccF",
        "outputId": "7dfcc0c4-d17f-4a7b-dfbb-5988a8021211"
      },
      "execution_count": 7,
      "outputs": [
        {
          "output_type": "stream",
          "name": "stdout",
          "text": [
            "Skriv inn lengden på kateten i trekanten (som halvsirkelen er satt sammen med)5\n",
            "Skriv inn lengden på kateten i trekanten (den andre kateten)10\n",
            "Arealet til figuren - rettvinklet trekant med halvsirkel er 34.82 og omkretsen av figuren er 29.03\n"
          ]
        }
      ]
    },
    {
      "cell_type": "markdown",
      "source": [
        "Oppg 6)\n",
        "\n",
        "Skriv en kode som plotter funksjonen 𝑓(𝑥) = −𝑥2 − 5, for x på intervallet [-10,10].\n",
        "\n",
        "Hint: np.linspace(-10, 10, 200) gir en array med 200 punkter jevnt fordelt på intervallet\n",
        "[-10,10]."
      ],
      "metadata": {
        "id": "FUAFn_U73dtI"
      }
    },
    {
      "cell_type": "code",
      "source": [
        "#OPPGAVE 6\n",
        "import numpy as np\n",
        "import matplotlib.pyplot as plt\n",
        "\n",
        "x = np.linspace(-10, 10, 200) #Array for 200 punkter jevnt fordelt på intervallet -10,10 ref. oppgavetekst\n",
        "\n",
        "funksjon = -x**2 - 5 #Funksjonen ref. oppgavetekst\n",
        "\n",
        "plt.plot(x, funksjon, \"D:g\") #Plotting av funksjonen\n",
        "\n"
      ],
      "metadata": {
        "colab": {
          "base_uri": "https://localhost:8080/",
          "height": 447
        },
        "id": "ZAWWK_1R3h-J",
        "outputId": "f21eb8ef-899a-4270-a341-3747ea7dc323"
      },
      "execution_count": 20,
      "outputs": [
        {
          "output_type": "execute_result",
          "data": {
            "text/plain": [
              "[<matplotlib.lines.Line2D at 0x7c6f25ea7f10>]"
            ]
          },
          "metadata": {},
          "execution_count": 20
        },
        {
          "output_type": "display_data",
          "data": {
            "text/plain": [
              "<Figure size 640x480 with 1 Axes>"
            ],
            "image/png": "[encoded data removed]"
          },
          "metadata": {}
        }
      ]
    }
  ]
}